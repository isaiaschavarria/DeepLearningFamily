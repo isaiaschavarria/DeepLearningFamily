{
 "cells": [
  {
   "cell_type": "markdown",
   "metadata": {},
   "source": [
    "**Isaias Chavarria Mora**"
   ]
  },
  {
   "cell_type": "markdown",
   "metadata": {},
   "source": [
    "**Model**"
   ]
  },
  {
   "cell_type": "code",
   "execution_count": 1,
   "metadata": {},
   "outputs": [],
   "source": [
    "import torch\n",
    "import torch.nn as nn\n",
    "import torch.optim as optim\n",
    "from torchvision import models, transforms\n",
    "from torch.utils.data import Dataset, DataLoader\n",
    "from PIL import Image\n",
    "import pandas as pd\n",
    "import numpy as np\n",
    "import glob\n",
    "from collections import defaultdict\n",
    "import os\n",
    "from itertools import combinations\n",
    "import csv\n",
    "import gc\n",
    "import matplotlib.pyplot as plt"
   ]
  },
  {
   "cell_type": "code",
   "execution_count": 2,
   "metadata": {},
   "outputs": [],
   "source": [
    "BASE_PATH_DIRECTORY = \"..\" + os.sep + \"train\"\n",
    "TEST_BASE_PATH_DIRECTORY = \"..\" + os.sep + \"test\"\n",
    "SUBMISSIONS_RESULTS_FILE_NAME = \"..\" + os.sep + 'result_submissions.csv'\n",
    "SUBMISSIONS_SAMPLE_FILE_NAME = \"..\" + os.sep + 'sample_submission.csv'\n",
    "TRAINING_DATA_COMPLETED_FILE = \"..\" + os.sep + 'training_data_ready_for_nn_large.csv'"
   ]
  },
  {
   "cell_type": "code",
   "execution_count": 3,
   "metadata": {},
   "outputs": [
    {
     "name": "stdout",
     "output_type": "stream",
     "text": [
      "WORKING ON cuda:0 \n"
     ]
    }
   ],
   "source": [
    "# Define image transformations\n",
    "transform = transforms.Compose([\n",
    "    transforms.Resize((128, 128)),#224,224\n",
    "    transforms.ToTensor(),\n",
    "    transforms.Normalize(mean=[0.485, 0.456, 0.406], std=[0.229, 0.224, 0.225]),\n",
    "])\n",
    "\n",
    "# Device configuration\n",
    "device = torch.device('cuda:0' if torch.cuda.is_available() else 'cpu')\n",
    "print(f\"WORKING ON {device} \")\n"
   ]
  },
  {
   "cell_type": "code",
   "execution_count": 49,
   "metadata": {},
   "outputs": [],
   "source": [
    "class ImagePairDataset(Dataset):\n",
    "\n",
    "    def __init__(self, csv_file, transform=None):\n",
    "        self.data = pd.read_csv(csv_file)\n",
    "        self.transform = transform\n",
    "\n",
    "    def __len__(self):\n",
    "        return len(self.data)\n",
    "\n",
    "    def __getitem__(self, idx):\n",
    "        #0 = \"P1\"\n",
    "        #1 = \"P2\"\n",
    "        #2 = \"result\"\n",
    "        \n",
    "        P1_path = str(self.data.iloc[idx, 0])\n",
    "        P2_path = str(self.data.iloc[idx, 1])\n",
    "        label = self.data.iloc[idx, 2]\n",
    "\n",
    "        P1_image = Image.open(P1_path).convert('RGB')\n",
    "        P2_image = Image.open(P2_path).convert('RGB')\n",
    "        if self.transform:\n",
    "          P1_image = self.transform(P1_image)\n",
    "          P2_image = self.transform(P2_image)\n",
    "          \n",
    "        return P1_image, P2_image, torch.tensor(label, dtype=torch.float32)"
   ]
  },
  {
   "cell_type": "code",
   "execution_count": 50,
   "metadata": {},
   "outputs": [],
   "source": [
    "class RelationshipNetwork(nn.Module):\n",
    "    def __init__(self):\n",
    "        super(RelationshipNetwork, self).__init__()\n",
    "        self.resnet = models.resnet50(pretrained=True)\n",
    "        self.resnet.fc = nn.Identity()  # Remove final classification layer\n",
    "        self.fc = nn.Sequential(\n",
    "            nn.Linear(2048, 512),\n",
    "            #nn.Linear(2048, 512),\n",
    "            nn.ReLU(),\n",
    "            #nn.Linear(512, 1),\n",
    "            nn.Linear(512, 1),\n",
    "            nn.Sigmoid()\n",
    "        )\n",
    "\n",
    "    def forward_once(self, x):\n",
    "        return self.resnet(x)\n",
    "\n",
    "    def forward(self, input1, input2):\n",
    "        output1 = self.forward_once(input1)\n",
    "        output2 = self.forward_once(input2)\n",
    "        distance = torch.abs(output1 - output2)\n",
    "        out = self.fc(distance)\n",
    "        return out"
   ]
  },
  {
   "cell_type": "code",
   "execution_count": 51,
   "metadata": {},
   "outputs": [],
   "source": [
    "def load_dataset(csv_file, batch_size=32):\n",
    "    dataset = ImagePairDataset(csv_file, transform=transform)\n",
    "    #return DataLoader(dataset, batch_size=batch_size, num_workers=4, pin_memory=True) #, collate_fn=collate_fn)\n",
    "    return DataLoader(dataset, batch_size=batch_size) #, collate_fn=collate_fn)"
   ]
  },
  {
   "cell_type": "code",
   "execution_count": 52,
   "metadata": {},
   "outputs": [],
   "source": [
    "# dataset = ImagePairDataset(TRAINING_DATA_COMPLETED_FILE, transform=transform)\n",
    "# print(len(dataset))\n",
    "# print(dataset.__getitem__(50))\n",
    "# print(\"ImagePairDataset OK\")"
   ]
  },
  {
   "cell_type": "markdown",
   "metadata": {},
   "source": [
    "**TEST MODEL**"
   ]
  },
  {
   "cell_type": "code",
   "execution_count": 4,
   "metadata": {},
   "outputs": [
    {
     "name": "stdout",
     "output_type": "stream",
     "text": [
      "(5310, 4)\n"
     ]
    },
    {
     "data": {
      "text/html": [
       "<div>\n",
       "<style scoped>\n",
       "    .dataframe tbody tr th:only-of-type {\n",
       "        vertical-align: middle;\n",
       "    }\n",
       "\n",
       "    .dataframe tbody tr th {\n",
       "        vertical-align: top;\n",
       "    }\n",
       "\n",
       "    .dataframe thead th {\n",
       "        text-align: right;\n",
       "    }\n",
       "</style>\n",
       "<table border=\"1\" class=\"dataframe\">\n",
       "  <thead>\n",
       "    <tr style=\"text-align: right;\">\n",
       "      <th></th>\n",
       "      <th>img_pair</th>\n",
       "      <th>is_related</th>\n",
       "      <th>p1</th>\n",
       "      <th>p2</th>\n",
       "    </tr>\n",
       "  </thead>\n",
       "  <tbody>\n",
       "    <tr>\n",
       "      <th>0</th>\n",
       "      <td>face05508.jpg-face01210.jpg</td>\n",
       "      <td>0</td>\n",
       "      <td>..\\test\\face05508.jpg</td>\n",
       "      <td>..\\test\\face01210.jpg</td>\n",
       "    </tr>\n",
       "    <tr>\n",
       "      <th>1</th>\n",
       "      <td>face05750.jpg-face00898.jpg</td>\n",
       "      <td>0</td>\n",
       "      <td>..\\test\\face05750.jpg</td>\n",
       "      <td>..\\test\\face00898.jpg</td>\n",
       "    </tr>\n",
       "    <tr>\n",
       "      <th>2</th>\n",
       "      <td>face05820.jpg-face03938.jpg</td>\n",
       "      <td>0</td>\n",
       "      <td>..\\test\\face05820.jpg</td>\n",
       "      <td>..\\test\\face03938.jpg</td>\n",
       "    </tr>\n",
       "    <tr>\n",
       "      <th>3</th>\n",
       "      <td>face02104.jpg-face01172.jpg</td>\n",
       "      <td>0</td>\n",
       "      <td>..\\test\\face02104.jpg</td>\n",
       "      <td>..\\test\\face01172.jpg</td>\n",
       "    </tr>\n",
       "    <tr>\n",
       "      <th>4</th>\n",
       "      <td>face02428.jpg-face05611.jpg</td>\n",
       "      <td>0</td>\n",
       "      <td>..\\test\\face02428.jpg</td>\n",
       "      <td>..\\test\\face05611.jpg</td>\n",
       "    </tr>\n",
       "  </tbody>\n",
       "</table>\n",
       "</div>"
      ],
      "text/plain": [
       "                      img_pair  is_related                     p1  \\\n",
       "0  face05508.jpg-face01210.jpg           0  ..\\test\\face05508.jpg   \n",
       "1  face05750.jpg-face00898.jpg           0  ..\\test\\face05750.jpg   \n",
       "2  face05820.jpg-face03938.jpg           0  ..\\test\\face05820.jpg   \n",
       "3  face02104.jpg-face01172.jpg           0  ..\\test\\face02104.jpg   \n",
       "4  face02428.jpg-face05611.jpg           0  ..\\test\\face02428.jpg   \n",
       "\n",
       "                      p2  \n",
       "0  ..\\test\\face01210.jpg  \n",
       "1  ..\\test\\face00898.jpg  \n",
       "2  ..\\test\\face03938.jpg  \n",
       "3  ..\\test\\face01172.jpg  \n",
       "4  ..\\test\\face05611.jpg  "
      ]
     },
     "execution_count": 4,
     "metadata": {},
     "output_type": "execute_result"
    }
   ],
   "source": [
    "#Read the submissions image pairs\n",
    "submission_data = pd.read_csv(SUBMISSIONS_SAMPLE_FILE_NAME)\n",
    "submission_data['p1'] = submission_data.img_pair.apply( lambda x: TEST_BASE_PATH_DIRECTORY + os.sep + x.split('-')[0])\n",
    "submission_data['p2'] = submission_data.img_pair.apply( lambda x: TEST_BASE_PATH_DIRECTORY + os.sep + x.split('-')[1] )\n",
    "print(submission_data.shape)\n",
    "submission_data.head()"
   ]
  },
  {
   "cell_type": "code",
   "execution_count": 54,
   "metadata": {},
   "outputs": [],
   "source": [
    "def test_model_images(model: torch.nn.Module, P1: str, P2: str):\n",
    "    with torch.no_grad():\n",
    "        P1_image = transform(Image.open(P1).convert('RGB')).unsqueeze(0).to(device)\n",
    "        P2_image = transform(Image.open(P2).convert('RGB')).unsqueeze(0).to(device)\n",
    "        output = model(P1_image, P2_image)\n",
    "        return output.item()"
   ]
  },
  {
   "cell_type": "code",
   "execution_count": 55,
   "metadata": {},
   "outputs": [],
   "source": [
    "def perform_test_process(model: torch.nn.Module):\n",
    "    print(\"TEST PROCESS STARTED********\")\n",
    "    with open(SUBMISSIONS_RESULTS_FILE_NAME, 'w', newline='') as csvfile:\n",
    "        csvwriter = csv.writer(csvfile)\n",
    "        csvwriter.writerow(['img_pair', 'result'])\n",
    "        for ind in submission_data.index:\n",
    "            image1_path = submission_data[\"p1\"][ind]\n",
    "            image2_path = submission_data[\"p2\"][ind]\n",
    "            result = test_model_images(model, image1_path, image2_path)\n",
    "            image_pair = image1_path + \" - \" + image2_path\n",
    "            csvwriter.writerow([image_pair, str(result)])\n",
    "    print(\"TEST PROCESS COMPLETED!!\")"
   ]
  },
  {
   "cell_type": "code",
   "execution_count": 56,
   "metadata": {},
   "outputs": [],
   "source": [
    "def create_loss_plot(loss_values):\n",
    "    plt.plot(loss_values)\n",
    "    plt.show()"
   ]
  },
  {
   "cell_type": "code",
   "execution_count": 57,
   "metadata": {},
   "outputs": [],
   "source": [
    "# Training the model\n",
    "\n",
    "def train_model(model: torch.nn.Module, dataloader:torch.utils.data.DataLoader, criterion: torch.nn.modules.loss, optimizer: torch.optim.Optimizer, num_epochs=10):\n",
    "    try:\n",
    "        model = model.to(device)\n",
    "        # Prepare the model for training\n",
    "        torch.cuda.empty_cache()\n",
    "        gc.collect()\n",
    "        model.train()\n",
    "        num_samples = len(dataloader.dataset)\n",
    "        num_batches = len(dataloader)\n",
    "        print(f\"TRAINING PROCESS STARTED for {num_epochs} EPOCHS\")\n",
    "        for epoch in range(num_epochs):\n",
    "            counter =0\n",
    "            epoch_loss = 0.0\n",
    "            epoch_accuracy = 0.0\n",
    "            for P1_image, P2_image, label in dataloader:\n",
    "                counter = counter + 1\n",
    "                P1_image, P2_image, label = P1_image.to(device), P2_image.to(device), label.to(device)\n",
    "                \n",
    "                \n",
    "                optimizer.zero_grad()\n",
    "                \n",
    "                outputs = model(P1_image, P2_image)\n",
    "                #loss = criterion(outputs.squeeze(), label)\n",
    "                loss = criterion(outputs.squeeze(), label)\n",
    "\n",
    "                epoch_loss += loss.item()\n",
    "                #epoch_accuracy += (torch.argmax(outputs.data, 1) == label).sum().item()\n",
    "\n",
    "                loss.backward()\n",
    "                optimizer.step()\n",
    "\n",
    "                if(counter % 5000 == 0):\n",
    "                    print(f\"Progress on {counter} batches\")\n",
    "\n",
    "            print(f'Epoch [{epoch + 1}/{num_epochs}], Epoch Loss: {epoch_loss / num_batches}')\n",
    "            loss_vals.append(epoch_loss / num_batches)\n",
    "    except Exception as e:\n",
    "        print(f\"An error occurred: {e}\")\n",
    "    \n",
    "    torch.save({'epoch':epoch, 'model_state_dict': model.state_dict(),'optimizer_state_dict':optimizer.state_dict(), 'loss':loss.item()},f'model_RESNET.pth')\n",
    "    # Test the model\n",
    "    perform_test_process(model)"
   ]
  },
  {
   "cell_type": "code",
   "execution_count": 58,
   "metadata": {},
   "outputs": [
    {
     "name": "stderr",
     "output_type": "stream",
     "text": [
      "c:\\Users\\isaia\\AppData\\Local\\Programs\\Python\\Python312\\Lib\\site-packages\\torchvision\\models\\_utils.py:208: UserWarning: The parameter 'pretrained' is deprecated since 0.13 and may be removed in the future, please use 'weights' instead.\n",
      "  warnings.warn(\n",
      "c:\\Users\\isaia\\AppData\\Local\\Programs\\Python\\Python312\\Lib\\site-packages\\torchvision\\models\\_utils.py:223: UserWarning: Arguments other than a weight enum or `None` for 'weights' are deprecated since 0.13 and may be removed in the future. The current behavior is equivalent to passing `weights=ResNet50_Weights.IMAGENET1K_V1`. You can also use `weights=ResNet50_Weights.DEFAULT` to get the most up-to-date weights.\n",
      "  warnings.warn(msg)\n"
     ]
    },
    {
     "name": "stdout",
     "output_type": "stream",
     "text": [
      "Dataset Loaded Correctly!!\n",
      "TRAINING PROCESS STARTED for 14 EPOCHS\n",
      "Progress on 5000 batches\n",
      "Progress on 10000 batches\n",
      "Epoch [1/14], Epoch Loss: 0.18849752010884194\n",
      "Progress on 5000 batches\n",
      "Progress on 10000 batches\n",
      "Epoch [2/14], Epoch Loss: 0.15097177997737285\n",
      "Progress on 5000 batches\n",
      "Progress on 10000 batches\n",
      "Epoch [3/14], Epoch Loss: 0.11742385026746854\n",
      "Progress on 5000 batches\n",
      "Progress on 10000 batches\n",
      "Epoch [4/14], Epoch Loss: 0.08187762373364696\n",
      "Progress on 5000 batches\n",
      "Progress on 10000 batches\n",
      "Epoch [5/14], Epoch Loss: 0.05465182321318164\n",
      "Progress on 5000 batches\n",
      "Progress on 10000 batches\n",
      "Epoch [6/14], Epoch Loss: 0.04065806125908529\n",
      "Progress on 5000 batches\n",
      "Progress on 10000 batches\n",
      "Epoch [7/14], Epoch Loss: 0.032226017568185\n",
      "Progress on 5000 batches\n",
      "Progress on 10000 batches\n",
      "Epoch [8/14], Epoch Loss: 0.031227927343564568\n",
      "Progress on 5000 batches\n",
      "Progress on 10000 batches\n",
      "Epoch [9/14], Epoch Loss: 0.02963370956846256\n",
      "Progress on 5000 batches\n",
      "Progress on 10000 batches\n",
      "Epoch [10/14], Epoch Loss: 0.02755945763953597\n",
      "Progress on 5000 batches\n",
      "Progress on 10000 batches\n",
      "Epoch [11/14], Epoch Loss: 0.021082189529647556\n",
      "Progress on 5000 batches\n",
      "Progress on 10000 batches\n",
      "Epoch [12/14], Epoch Loss: 0.021722657161288333\n",
      "Progress on 5000 batches\n",
      "Progress on 10000 batches\n",
      "Epoch [13/14], Epoch Loss: 0.015163574327841543\n",
      "Progress on 5000 batches\n",
      "Progress on 10000 batches\n",
      "Epoch [14/14], Epoch Loss: 0.011063091087903548\n",
      "TEST PROCESS STARTED********\n",
      "TEST PROCESS COMPLETED!!\n"
     ]
    }
   ],
   "source": [
    "# Paths and constants\n",
    "batch_size = 32\n",
    "num_epochs = 14\n",
    "learning_rate = 0.00001\n",
    "\n",
    "# Initialize model, criterion, optimizer\n",
    "model = RelationshipNetwork().to(device)\n",
    "criterion = nn.BCELoss()\n",
    "optimizer = optim.Adam(model.parameters(), lr=learning_rate)\n",
    "\n",
    "# Load data\n",
    "dataloader = load_dataset(TRAINING_DATA_COMPLETED_FILE, batch_size)\n",
    "print(\"Dataset Loaded Correctly!!\")\n",
    "# Train the model\n",
    "loss_vals = []\n",
    "train_model(model, dataloader, criterion, optimizer, num_epochs)\n"
   ]
  },
  {
   "cell_type": "code",
   "execution_count": 59,
   "metadata": {},
   "outputs": [
    {
     "data": {
      "image/png": "[encoded data removed]",
      "text/plain": [
       "<Figure size 640x480 with 1 Axes>"
      ]
     },
     "metadata": {},
     "output_type": "display_data"
    }
   ],
   "source": [
    "create_loss_plot(loss_values=loss_vals)"
   ]
  }
 ],
 "metadata": {
  "kernelspec": {
   "display_name": "Python 3",
   "language": "python",
   "name": "python3"
  },
  "language_info": {
   "codemirror_mode": {
    "name": "ipython",
    "version": 3
   },
   "file_extension": ".py",
   "mimetype": "text/x-python",
   "name": "python",
   "nbconvert_exporter": "python",
   "pygments_lexer": "ipython3",
   "version": "3.12.3"
  }
 },
 "nbformat": 4,
 "nbformat_minor": 2
}
